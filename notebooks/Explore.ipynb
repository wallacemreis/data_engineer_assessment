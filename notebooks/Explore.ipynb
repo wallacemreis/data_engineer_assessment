{
 "cells": [
  {
   "cell_type": "code",
   "execution_count": 2,
   "id": "c54108c9",
   "metadata": {},
   "outputs": [],
   "source": [
    "import os"
   ]
  },
  {
   "cell_type": "code",
   "execution_count": 3,
   "id": "433451ad",
   "metadata": {},
   "outputs": [],
   "source": [
    "from pyspark.sql import SparkSession"
   ]
  },
  {
   "cell_type": "code",
   "execution_count": 4,
   "id": "b2448d50",
   "metadata": {},
   "outputs": [],
   "source": [
    "os.environ[\"PYSPARK_SUBMIT_ARGS\"] = \"--packages org.postgresql:postgresql:42.2.19 --driver-class-path /home/jovyan/.ivy2/jars/org.postgresql_postgresql-42.2.19.jar pyspark-shell\""
   ]
  },
  {
   "cell_type": "code",
   "execution_count": 5,
   "id": "ec028176",
   "metadata": {},
   "outputs": [],
   "source": [
    "spark = (\n",
    "    SparkSession.builder.appName(\"Spark Notebook\")\n",
    "    .getOrCreate()\n",
    ")"
   ]
  },
  {
   "cell_type": "code",
   "execution_count": 6,
   "id": "4b018675",
   "metadata": {},
   "outputs": [],
   "source": [
    "%load_ext jupyterlab_sql_editor.ipython_magic.sparksql"
   ]
  },
  {
   "cell_type": "code",
   "execution_count": 7,
   "id": "4d5016b2-4af7-4b58-b3c4-e8b1a322549e",
   "metadata": {},
   "outputs": [],
   "source": [
    "%config SparkSql.outputFile=\"/tmp/sparkdb.schema.json\""
   ]
  },
  {
   "cell_type": "code",
   "execution_count": 8,
   "id": "544df542",
   "metadata": {},
   "outputs": [],
   "source": [
    "def load_postgres_to_spark_temp_view(\n",
    "    spark, jdbc_url, table_name, user, password, temp_view_name\n",
    "):\n",
    "    \"\"\"\n",
    "    Loads a table from PostgreSQL into Spark and registers it as a temporary view.\n",
    "\n",
    "    Args:\n",
    "        spark (SparkSession): Active Spark session.\n",
    "        jdbc_url (str): JDBC URL for PostgreSQL.\n",
    "        table_name (str): Name of the table in PostgreSQL.\n",
    "        user (str): PostgreSQL database user.\n",
    "        password (str): PostgreSQL database password.\n",
    "        temp_view_name (str): Name of the temporary view in Spark.\n",
    "\n",
    "    Returns:\n",
    "        None\n",
    "    \"\"\"\n",
    "    df = (\n",
    "        spark.read.format(\"jdbc\")\n",
    "        .options(\n",
    "            url=jdbc_url,\n",
    "            dbtable=table_name,\n",
    "            user=user,\n",
    "            password=password,\n",
    "            driver=\"org.postgresql.Driver\"\n",
    "        )\n",
    "        .load()\n",
    "    )\n",
    "\n",
    "    df.createOrReplaceTempView(temp_view_name)"
   ]
  },
  {
   "cell_type": "code",
   "execution_count": 9,
   "id": "23798c0d",
   "metadata": {},
   "outputs": [],
   "source": [
    "table_to_load = [\"managers\", \"orders\", \"returns\"]\n",
    "conn_params = {\n",
    "    \"jdbc_url\": \"jdbc:postgresql://poplin-postgres:5432/poplin-store\",\n",
    "    \"user\": \"postgres\",\n",
    "    \"password\": \"secretpassword\",\n",
    "}\n",
    "\n",
    "for table in table_to_load:\n",
    "    args = {\n",
    "        **{\"spark\": spark, \"table_name\": table, \"temp_view_name\": table},\n",
    "        **conn_params,\n",
    "    }\n",
    "    load_postgres_to_spark_temp_view(**args)"
   ]
  },
  {
   "cell_type": "code",
   "execution_count": 10,
   "id": "af5b7885-6cd5-4ea0-a608-67785c92e44b",
   "metadata": {},
   "outputs": [
    {
     "name": "stdout",
     "output_type": "stream",
     "text": [
      "Exporting functions: [########################################] 100.0%\n",
      "Schema file updated: /tmp/sparkdb.schema.json\n"
     ]
    }
   ],
   "source": [
    "%sparksql --refresh all"
   ]
  },
  {
   "cell_type": "code",
   "execution_count": 11,
   "id": "2bca3534-5641-411c-9e18-182357774046",
   "metadata": {},
   "outputs": [
    {
     "name": "stdout",
     "output_type": "stream",
     "text": [
      "Execution time: 0.08 seconds\n"
     ]
    },
    {
     "data": {
      "application/vnd.jupyter.widget-view+json": {
       "model_id": "2172e159ca5141a98507460ab3d5b561",
       "version_major": 2,
       "version_minor": 0
      },
      "text/plain": [
       "SparkSchemaWidget(nodes=(Node(close_icon='angle-down', close_icon_style='danger', icon='project-diagram', icon…"
      ]
     },
     "metadata": {},
     "output_type": "display_data"
    },
    {
     "data": {
      "text/html": [
       "<a class=\"external\" href=\"http://7044d9af2496:4040\" target=\"_blank\" >Open Spark UI ⭐ Spark Notebook</a>"
      ],
      "text/plain": [
       "<IPython.core.display.HTML object>"
      ]
     },
     "metadata": {},
     "output_type": "display_data"
    },
    {
     "data": {
      "text/html": [
       "<table><table border='1' class='mathjax_ignore'>\n",
       "<tr><th>namespace</th><th>tableName</th><th>isTemporary</th></tr>\n",
       "<tr><td></td><td>managers</td><td>True</td></tr>\n",
       "<tr><td></td><td>orders</td><td>True</td></tr>\n",
       "<tr><td></td><td>returns</td><td>True</td></tr>\n",
       "</table>\n",
       "</table>"
      ],
      "text/plain": [
       "<IPython.core.display.HTML object>"
      ]
     },
     "metadata": {},
     "output_type": "display_data"
    }
   ],
   "source": [
    "%sparksql SHOW TABLES"
   ]
  },
  {
   "cell_type": "code",
   "execution_count": 12,
   "id": "6dbe182c-b185-40be-b48c-139ff9d30a92",
   "metadata": {},
   "outputs": [
    {
     "name": "stdout",
     "output_type": "stream",
     "text": [
      "Execution time: 0.20 seconds\n"
     ]
    },
    {
     "data": {
      "application/vnd.jupyter.widget-view+json": {
       "model_id": "8465af360f2f4959ba93306d361033c5",
       "version_major": 2,
       "version_minor": 0
      },
      "text/plain": [
       "SparkSchemaWidget(nodes=(Node(close_icon='angle-down', close_icon_style='danger', icon='project-diagram', icon…"
      ]
     },
     "metadata": {},
     "output_type": "display_data"
    },
    {
     "data": {
      "text/html": [
       "<a class=\"external\" href=\"http://7044d9af2496:4040\" target=\"_blank\" >Open Spark UI ⭐ Spark Notebook</a>"
      ],
      "text/plain": [
       "<IPython.core.display.HTML object>"
      ]
     },
     "metadata": {},
     "output_type": "display_data"
    },
    {
     "name": "stdout",
     "output_type": "stream",
     "text": [
      "+---+--------------+----------+----------+--------------+-----------+------------------+-----------+-------------+---------------+--------------+-----------+-------+---------------+---------------+------------+----------------------------------------------------------------------------+--------+--------+--------+--------+\n",
      "|id |order_id      |order_date|ship_date |ship_mode     |customer_id|customer_name     |segment    |country      |city           |state         |postal_code|region |product_id     |category       |sub_category|product_name                                                                |sales   |quantity|discount|profit  |\n",
      "+---+--------------+----------+----------+--------------+-----------+------------------+-----------+-------------+---------------+--------------+-----------+-------+---------------+---------------+------------+----------------------------------------------------------------------------+--------+--------+--------+--------+\n",
      "|1  |CA-2016-152156|2016-11-08|2016-11-11|Second Class  |CG-12520   |Claire Gute       |Consumer   |United States|Henderson      |Kentucky      |42420      |South  |FUR-BO-10001798|Furniture      |Bookcases   |Bush Somerset Collection Bookcase                                           |261.96  |2       |0       |41.9136 |\n",
      "|2  |CA-2016-152156|2016-11-08|2016-11-11|Second Class  |CG-12520   |Claire Gute       |Consumer   |United States|Henderson      |Kentucky      |42420      |South  |FUR-CH-10000454|Furniture      |Chairs      |Hon Deluxe Fabric Upholstered Stacking Chairs, Rounded Back                 |731.94  |3       |0       |219.582 |\n",
      "|3  |CA-2016-138688|2016-06-12|2016-06-16|Second Class  |DV-13045   |Darrin Van Huff   |Corporate  |United States|Los Angeles    |California    |90036      |West   |OFF-LA-10000240|Office Supplies|Labels      |Self-Adhesive Address Labels for Typewriters by Universal                   |14.62   |2       |0       |6.8714  |\n",
      "|4  |US-2015-108966|2015-10-11|2015-10-18|Standard Class|SO-20335   |Sean O'Donnell    |Consumer   |United States|Fort Lauderdale|Florida       |33311      |South  |FUR-TA-10000577|Furniture      |Tables      |Bretford CR4500 Series Slim Rectangular Table                               |957.5775|5       |0       |-383.031|\n",
      "|5  |US-2015-108966|2015-10-11|2015-10-18|Standard Class|SO-20335   |Sean O'Donnell    |Consumer   |United States|Fort Lauderdale|Florida       |33311      |South  |OFF-ST-10000760|Office Supplies|Storage     |Eldon Fold 'N Roll Cart System                                              |22.368  |2       |0       |2.5164  |\n",
      "|6  |CA-2014-115812|2014-06-09|2014-06-14|Standard Class|BH-11710   |Brosina Hoffman   |Consumer   |United States|Los Angeles    |California    |90032      |West   |FUR-FU-10001487|Furniture      |Furnishings |Eldon Expressions Wood and Plastic Desk Accessories, Cherry Wood            |48.86   |7       |0       |14.1694 |\n",
      "|7  |CA-2014-115812|2014-06-09|2014-06-14|Standard Class|BH-11710   |Brosina Hoffman   |Consumer   |United States|Los Angeles    |California    |90032      |West   |OFF-AR-10002833|Office Supplies|Art         |Newell 322                                                                  |7.28    |4       |0       |1.9656  |\n",
      "|8  |CA-2014-115812|2014-06-09|2014-06-14|Standard Class|BH-11710   |Brosina Hoffman   |Consumer   |United States|Los Angeles    |California    |90032      |West   |TEC-PH-10002275|Technology     |Phones      |Mitel 5320 IP Phone VoIP phone                                              |907.152 |6       |0       |90.7152 |\n",
      "|9  |CA-2014-115812|2014-06-09|2014-06-14|Standard Class|BH-11710   |Brosina Hoffman   |Consumer   |United States|Los Angeles    |California    |90032      |West   |OFF-BI-10003910|Office Supplies|Binders     |DXL Angle-View Binders with Locking Rings by Samsill                        |18.504  |3       |0       |5.7825  |\n",
      "|10 |CA-2014-115812|2014-06-09|2014-06-14|Standard Class|BH-11710   |Brosina Hoffman   |Consumer   |United States|Los Angeles    |California    |90032      |West   |OFF-AP-10002892|Office Supplies|Appliances  |Belkin F5C206VTEL 6 Outlet Surge                                            |114.9   |5       |0       |34.47   |\n",
      "|11 |CA-2014-115812|2014-06-09|2014-06-14|Standard Class|BH-11710   |Brosina Hoffman   |Consumer   |United States|Los Angeles    |California    |90032      |West   |FUR-TA-10001539|Furniture      |Tables      |Chromcraft Rectangular Conference Tables                                    |1706.184|9       |0       |85.3092 |\n",
      "|12 |CA-2014-115812|2014-06-09|2014-06-14|Standard Class|BH-11710   |Brosina Hoffman   |Consumer   |United States|Los Angeles    |California    |90032      |West   |TEC-PH-10002033|Technology     |Phones      |Konftel 250 Conference phone - Charcoal black                               |911.424 |4       |0       |68.3568 |\n",
      "|13 |CA-2017-114412|2017-04-15|2017-04-20|Standard Class|AA-10480   |Andrew Allen      |Consumer   |United States|Concord        |North Carolina|28027      |South  |OFF-PA-10002365|Office Supplies|Paper       |Xerox 1967                                                                  |15.552  |3       |0       |5.4432  |\n",
      "|14 |CA-2016-161389|2016-12-05|2016-12-10|Standard Class|IM-15070   |Irene Maddox      |Consumer   |United States|Seattle        |Washington    |98103      |West   |OFF-BI-10003656|Office Supplies|Binders     |Fellowes PB200 Plastic Comb Binding Machine                                 |407.976 |3       |0       |132.5922|\n",
      "|15 |US-2015-118983|2015-11-22|2015-11-26|Standard Class|HP-14815   |Harold Pawlan     |Home Office|United States|Fort Worth     |Texas         |76106      |Central|OFF-AP-10002311|Office Supplies|Appliances  |Holmes Replacement Filter for HEPA Air Cleaner, Very Large Room, HEPA Filter|68.81   |5       |1       |-123.858|\n",
      "|16 |US-2015-118983|2015-11-22|2015-11-26|Standard Class|HP-14815   |Harold Pawlan     |Home Office|United States|Fort Worth     |Texas         |76106      |Central|OFF-BI-10000756|Office Supplies|Binders     |Storex DuraTech Recycled Plastic Frosted Binders                            |2.544   |3       |1       |-3.816  |\n",
      "|17 |CA-2014-105893|2014-11-11|2014-11-18|Standard Class|PK-19075   |Pete Kriz         |Consumer   |United States|Madison        |Wisconsin     |53711      |Central|OFF-ST-10004186|Office Supplies|Storage     |Stur-D-Stor Shelving, Vertical 5-Shelf: 72\"H x 36\"W x 18 1/2\"D              |665.88  |6       |0       |13.3176 |\n",
      "|18 |CA-2014-167164|2014-05-13|2014-05-15|Second Class  |AG-10270   |Alejandro Grove   |Consumer   |United States|West Jordan    |Utah          |84084      |West   |OFF-ST-10000107|Office Supplies|Storage     |Fellowes Super Stor/Drawer                                                  |55.5    |2       |0       |9.99    |\n",
      "|19 |CA-2014-143336|2014-08-27|2014-09-01|Second Class  |ZD-21925   |Zuschuss Donatelli|Consumer   |United States|San Francisco  |California    |94109      |West   |OFF-AR-10003056|Office Supplies|Art         |Newell 341                                                                  |8.56    |2       |0       |2.4824  |\n",
      "|20 |CA-2014-143336|2014-08-27|2014-09-01|Second Class  |ZD-21925   |Zuschuss Donatelli|Consumer   |United States|San Francisco  |California    |94109      |West   |TEC-PH-10001949|Technology     |Phones      |Cisco SPA 501G IP Phone                                                     |213.48  |3       |0       |16.011  |\n",
      "+---+--------------+----------+----------+--------------+-----------+------------------+-----------+-------------+---------------+--------------+-----------+-------+---------------+---------------+------------+----------------------------------------------------------------------------+--------+--------+--------+--------+\n",
      "\n"
     ]
    }
   ],
   "source": [
    "%%sparksql --output text --limit 20\n",
    "select * from orders limit 20"
   ]
  },
  {
   "cell_type": "code",
   "execution_count": 13,
   "id": "56180251",
   "metadata": {},
   "outputs": [
    {
     "name": "stdout",
     "output_type": "stream",
     "text": [
      "Execution time: 0.06 seconds\n"
     ]
    },
    {
     "data": {
      "application/vnd.jupyter.widget-view+json": {
       "model_id": "97d26c62e0c54327a4f8ebc0dc76a0b6",
       "version_major": 2,
       "version_minor": 0
      },
      "text/plain": [
       "SparkSchemaWidget(nodes=(Node(close_icon='angle-down', close_icon_style='danger', icon='project-diagram', icon…"
      ]
     },
     "metadata": {},
     "output_type": "display_data"
    },
    {
     "data": {
      "text/html": [
       "<a class=\"external\" href=\"http://7044d9af2496:4040\" target=\"_blank\" >Open Spark UI ⭐ Spark Notebook</a>"
      ],
      "text/plain": [
       "<IPython.core.display.HTML object>"
      ]
     },
     "metadata": {},
     "output_type": "display_data"
    },
    {
     "name": "stdout",
     "output_type": "stream",
     "text": [
      "+-----------------+-------+\n",
      "|manager          |region |\n",
      "+-----------------+-------+\n",
      "|Anna Andreadi    |West   |\n",
      "|Chuck Magee      |East   |\n",
      "|Kelly Williams   |Central|\n",
      "|Cassandra Brandow|South  |\n",
      "+-----------------+-------+\n",
      "\n"
     ]
    }
   ],
   "source": [
    "%%sparksql --output text --limit 20\n",
    "select * from managers limit 20"
   ]
  },
  {
   "cell_type": "code",
   "execution_count": 14,
   "id": "e61b52bd",
   "metadata": {},
   "outputs": [
    {
     "name": "stdout",
     "output_type": "stream",
     "text": [
      "Execution time: 0.05 seconds\n"
     ]
    },
    {
     "data": {
      "application/vnd.jupyter.widget-view+json": {
       "model_id": "fcdbdef07c414218a24f2323998ea3d9",
       "version_major": 2,
       "version_minor": 0
      },
      "text/plain": [
       "SparkSchemaWidget(nodes=(Node(close_icon='angle-down', close_icon_style='danger', icon='project-diagram', icon…"
      ]
     },
     "metadata": {},
     "output_type": "display_data"
    },
    {
     "data": {
      "text/html": [
       "<a class=\"external\" href=\"http://7044d9af2496:4040\" target=\"_blank\" >Open Spark UI ⭐ Spark Notebook</a>"
      ],
      "text/plain": [
       "<IPython.core.display.HTML object>"
      ]
     },
     "metadata": {},
     "output_type": "display_data"
    },
    {
     "name": "stdout",
     "output_type": "stream",
     "text": [
      "+--------+--------------+\n",
      "|returned|order_id      |\n",
      "+--------+--------------+\n",
      "|Yes     |CA-2017-153822|\n",
      "|Yes     |CA-2017-129707|\n",
      "|Yes     |CA-2014-152345|\n",
      "|Yes     |CA-2015-156440|\n",
      "|Yes     |US-2017-155999|\n",
      "|Yes     |CA-2014-157924|\n",
      "|Yes     |CA-2017-131807|\n",
      "|Yes     |CA-2016-124527|\n",
      "|Yes     |CA-2017-135692|\n",
      "|Yes     |CA-2014-123225|\n",
      "|Yes     |CA-2017-145772|\n",
      "|Yes     |US-2014-105137|\n",
      "|Yes     |CA-2017-101805|\n",
      "|Yes     |CA-2016-111682|\n",
      "|Yes     |CA-2017-131492|\n",
      "|Yes     |CA-2015-104129|\n",
      "|Yes     |CA-2017-117926|\n",
      "|Yes     |US-2016-115952|\n",
      "|Yes     |CA-2015-155761|\n",
      "|Yes     |CA-2017-100111|\n",
      "+--------+--------------+\n",
      "\n"
     ]
    }
   ],
   "source": [
    "%%sparksql --output text --limit 20\n",
    "select * from returns limit 20"
   ]
  },
  {
   "cell_type": "markdown",
   "id": "b9437de1",
   "metadata": {},
   "source": [
    "# QA"
   ]
  },
  {
   "cell_type": "code",
   "execution_count": 15,
   "id": "565c8757",
   "metadata": {},
   "outputs": [
    {
     "name": "stdout",
     "output_type": "stream",
     "text": [
      "Execution time: 0.52 seconds\n"
     ]
    },
    {
     "data": {
      "application/vnd.jupyter.widget-view+json": {
       "model_id": "35feed1c5108413d90d1fd36d7c2dc25",
       "version_major": 2,
       "version_minor": 0
      },
      "text/plain": [
       "SparkSchemaWidget(nodes=(Node(close_icon='angle-down', close_icon_style='danger', icon='project-diagram', icon…"
      ]
     },
     "metadata": {},
     "output_type": "display_data"
    },
    {
     "data": {
      "text/html": [
       "<a class=\"external\" href=\"http://7044d9af2496:4040\" target=\"_blank\" >Open Spark UI ⭐ Spark Notebook</a>"
      ],
      "text/plain": [
       "<IPython.core.display.HTML object>"
      ]
     },
     "metadata": {},
     "output_type": "display_data"
    },
    {
     "name": "stdout",
     "output_type": "stream",
     "text": [
      "+------+\n",
      "|region|\n",
      "+------+\n",
      "+------+\n",
      "\n"
     ]
    }
   ],
   "source": [
    "%%sparksql --output text --limit 20\n",
    "\n",
    "-- Check for regions in orders that do not have a matching manager\n",
    "\n",
    "select distinct o.region\n",
    "from orders o\n",
    "left join managers m on o.region = m.region\n",
    "where m.region is null;"
   ]
  },
  {
   "cell_type": "code",
   "execution_count": 16,
   "id": "60b0e023",
   "metadata": {},
   "outputs": [
    {
     "name": "stdout",
     "output_type": "stream",
     "text": [
      "Execution time: 0.08 seconds\n"
     ]
    },
    {
     "data": {
      "application/vnd.jupyter.widget-view+json": {
       "model_id": "11888dac8730460c9a4a7c50adba3f10",
       "version_major": 2,
       "version_minor": 0
      },
      "text/plain": [
       "SparkSchemaWidget(nodes=(Node(close_icon='angle-down', close_icon_style='danger', icon='project-diagram', icon…"
      ]
     },
     "metadata": {},
     "output_type": "display_data"
    },
    {
     "data": {
      "text/html": [
       "<a class=\"external\" href=\"http://7044d9af2496:4040\" target=\"_blank\" >Open Spark UI ⭐ Spark Notebook</a>"
      ],
      "text/plain": [
       "<IPython.core.display.HTML object>"
      ]
     },
     "metadata": {},
     "output_type": "display_data"
    },
    {
     "name": "stdout",
     "output_type": "stream",
     "text": [
      "+--------+----------+---------+\n",
      "|order_id|order_date|ship_date|\n",
      "+--------+----------+---------+\n",
      "+--------+----------+---------+\n",
      "\n"
     ]
    }
   ],
   "source": [
    "%%sparksql --output text --limit 20\n",
    "\n",
    "-- Identify orders where the ship date is before the order date\n",
    "\n",
    "select order_id, order_date, ship_date\n",
    "from orders\n",
    "where order_date > ship_date;"
   ]
  },
  {
   "cell_type": "code",
   "execution_count": 17,
   "id": "e892a264",
   "metadata": {},
   "outputs": [
    {
     "name": "stdout",
     "output_type": "stream",
     "text": [
      "Execution time: 0.05 seconds\n"
     ]
    },
    {
     "data": {
      "application/vnd.jupyter.widget-view+json": {
       "model_id": "11850a1c4ca1489d8b54973607b641af",
       "version_major": 2,
       "version_minor": 0
      },
      "text/plain": [
       "SparkSchemaWidget(nodes=(Node(close_icon='angle-down', close_icon_style='danger', icon='project-diagram', icon…"
      ]
     },
     "metadata": {},
     "output_type": "display_data"
    },
    {
     "data": {
      "text/html": [
       "<a class=\"external\" href=\"http://7044d9af2496:4040\" target=\"_blank\" >Open Spark UI ⭐ Spark Notebook</a>"
      ],
      "text/plain": [
       "<IPython.core.display.HTML object>"
      ]
     },
     "metadata": {},
     "output_type": "display_data"
    },
    {
     "name": "stdout",
     "output_type": "stream",
     "text": [
      "+---+--------+----------+---------+---------+-----------+-------------+-------+-------+----+-----+-----------+------+----------+--------+------------+------------+-----+--------+--------+------+\n",
      "|id |order_id|order_date|ship_date|ship_mode|customer_id|customer_name|segment|country|city|state|postal_code|region|product_id|category|sub_category|product_name|sales|quantity|discount|profit|\n",
      "+---+--------+----------+---------+---------+-----------+-------------+-------+-------+----+-----+-----------+------+----------+--------+------------+------------+-----+--------+--------+------+\n",
      "+---+--------+----------+---------+---------+-----------+-------------+-------+-------+----+-----+-----------+------+----------+--------+------------+------------+-----+--------+--------+------+\n",
      "\n"
     ]
    }
   ],
   "source": [
    "%%sparksql --output text --limit 20\n",
    "\n",
    "-- Check for missing values in ship_mode, segment, or category\n",
    "\n",
    "select *\n",
    "from orders\n",
    "where ship_mode is null or segment is null or category is null;"
   ]
  },
  {
   "cell_type": "code",
   "execution_count": 18,
   "id": "a0e4424c",
   "metadata": {},
   "outputs": [
    {
     "name": "stdout",
     "output_type": "stream",
     "text": [
      "Execution time: 0.06 seconds\n"
     ]
    },
    {
     "data": {
      "application/vnd.jupyter.widget-view+json": {
       "model_id": "bb1a8b80c42140868675dca671be17d9",
       "version_major": 2,
       "version_minor": 0
      },
      "text/plain": [
       "SparkSchemaWidget(nodes=(Node(close_icon='angle-down', close_icon_style='danger', icon='project-diagram', icon…"
      ]
     },
     "metadata": {},
     "output_type": "display_data"
    },
    {
     "data": {
      "text/html": [
       "<a class=\"external\" href=\"http://7044d9af2496:4040\" target=\"_blank\" >Open Spark UI ⭐ Spark Notebook</a>"
      ],
      "text/plain": [
       "<IPython.core.display.HTML object>"
      ]
     },
     "metadata": {},
     "output_type": "display_data"
    },
    {
     "name": "stdout",
     "output_type": "stream",
     "text": [
      "+--------+--------+\n",
      "|order_id|discount|\n",
      "+--------+--------+\n",
      "+--------+--------+\n",
      "\n"
     ]
    }
   ],
   "source": [
    "%%sparksql --output text --limit 20\n",
    "\n",
    "-- Check for invalid discount values\n",
    "\n",
    "select order_id, discount\n",
    "from orders\n",
    "where discount < 0 or discount > 1;"
   ]
  },
  {
   "cell_type": "code",
   "execution_count": 19,
   "id": "9c80152e",
   "metadata": {},
   "outputs": [
    {
     "name": "stdout",
     "output_type": "stream",
     "text": [
      "Execution time: 0.09 seconds\n"
     ]
    },
    {
     "data": {
      "application/vnd.jupyter.widget-view+json": {
       "model_id": "62421b162bbb4556b2a48b9ffdcbfa91",
       "version_major": 2,
       "version_minor": 0
      },
      "text/plain": [
       "SparkSchemaWidget(nodes=(Node(close_icon='angle-down', close_icon_style='danger', icon='project-diagram', icon…"
      ]
     },
     "metadata": {},
     "output_type": "display_data"
    },
    {
     "data": {
      "text/html": [
       "<a class=\"external\" href=\"http://7044d9af2496:4040\" target=\"_blank\" >Open Spark UI ⭐ Spark Notebook</a>"
      ],
      "text/plain": [
       "<IPython.core.display.HTML object>"
      ]
     },
     "metadata": {},
     "output_type": "display_data"
    },
    {
     "name": "stdout",
     "output_type": "stream",
     "text": [
      "+--------+------+------------------+---------------+\n",
      "|order_id|length|hex_representation|order_id_status|\n",
      "+--------+------+------------------+---------------+\n",
      "+--------+------+------------------+---------------+\n",
      "\n"
     ]
    }
   ],
   "source": [
    "%%sparksql --output text --limit 20\n",
    "\n",
    "-- Identify orders with order_id values that do not match the expected pattern 'XX-YYYY-ZZZZZ', \n",
    "-- where 'XX' represents two uppercase letters, 'YYYY' represents four digits, \n",
    "-- and 'ZZZZZ' represents a sequence of one or more digits.\n",
    "\n",
    "select \n",
    "      trim(order_id) as order_id\n",
    "    , length(trim(order_id)) as length\n",
    "    , hex(trim(order_id)) as hex_representation\n",
    "    , case \n",
    "        when trim(order_id) rlike '^[A-Z]{2}-\\\\d{4}-\\\\d+$' then 'valid'\n",
    "        else 'invalid'\n",
    "      end as order_id_status\n",
    "from orders\n",
    "where \n",
    "    trim(order_id) is not null\n",
    "  and not (trim(order_id) rlike '^[A-Z]{2}-\\\\d{4}-\\\\d+$');"
   ]
  },
  {
   "cell_type": "code",
   "execution_count": 20,
   "id": "78f1a562",
   "metadata": {},
   "outputs": [
    {
     "name": "stdout",
     "output_type": "stream",
     "text": [
      "Execution time: 0.04 seconds\n"
     ]
    },
    {
     "data": {
      "application/vnd.jupyter.widget-view+json": {
       "model_id": "6b91b1d64adb4973bd7c86b7ec3dd323",
       "version_major": 2,
       "version_minor": 0
      },
      "text/plain": [
       "SparkSchemaWidget(nodes=(Node(close_icon='angle-down', close_icon_style='danger', icon='project-diagram', icon…"
      ]
     },
     "metadata": {},
     "output_type": "display_data"
    },
    {
     "data": {
      "text/html": [
       "<a class=\"external\" href=\"http://7044d9af2496:4040\" target=\"_blank\" >Open Spark UI ⭐ Spark Notebook</a>"
      ],
      "text/plain": [
       "<IPython.core.display.HTML object>"
      ]
     },
     "metadata": {},
     "output_type": "display_data"
    },
    {
     "name": "stdout",
     "output_type": "stream",
     "text": [
      "+---+--------+----------+---------+---------+-----------+-------------+-------+-------+----+-----+-----------+------+----------+--------+------------+------------+-----+--------+--------+------+\n",
      "|id |order_id|order_date|ship_date|ship_mode|customer_id|customer_name|segment|country|city|state|postal_code|region|product_id|category|sub_category|product_name|sales|quantity|discount|profit|\n",
      "+---+--------+----------+---------+---------+-----------+-------------+-------+-------+----+-----+-----------+------+----------+--------+------------+------------+-----+--------+--------+------+\n",
      "+---+--------+----------+---------+---------+-----------+-------------+-------+-------+----+-----+-----------+------+----------+--------+------------+------------+-----+--------+--------+------+\n",
      "\n"
     ]
    }
   ],
   "source": [
    "%%sparksql --output text --limit 20\n",
    "\n",
    "-- Identify rows with null values in key columns\n",
    "\n",
    "select *\n",
    "from orders\n",
    "where order_id is null or customer_id is null or sales is null;"
   ]
  },
  {
   "cell_type": "code",
   "execution_count": 21,
   "id": "1d4a98b3",
   "metadata": {},
   "outputs": [
    {
     "name": "stdout",
     "output_type": "stream",
     "text": [
      "Execution time: 0.59 seconds\n"
     ]
    },
    {
     "data": {
      "application/vnd.jupyter.widget-view+json": {
       "model_id": "4e3cf9de599c4bdb9ce3a13927d616e0",
       "version_major": 2,
       "version_minor": 0
      },
      "text/plain": [
       "SparkSchemaWidget(nodes=(Node(close_icon='angle-down', close_icon_style='danger', icon='project-diagram', icon…"
      ]
     },
     "metadata": {},
     "output_type": "display_data"
    },
    {
     "data": {
      "text/html": [
       "<a class=\"external\" href=\"http://7044d9af2496:4040\" target=\"_blank\" >Open Spark UI ⭐ Spark Notebook</a>"
      ],
      "text/plain": [
       "<IPython.core.display.HTML object>"
      ]
     },
     "metadata": {},
     "output_type": "display_data"
    },
    {
     "name": "stdout",
     "output_type": "stream",
     "text": [
      "+-----------+-------------+\n",
      "|customer_id|name_variants|\n",
      "+-----------+-------------+\n",
      "+-----------+-------------+\n",
      "\n"
     ]
    }
   ],
   "source": [
    "%%sparksql --output text --limit 20\n",
    "\n",
    "-- Check for customers with multiple associated names\n",
    "\n",
    "select \n",
    "    customer_id\n",
    "  , count(distinct customer_name) as name_variants\n",
    "from orders\n",
    "group by customer_id\n",
    "having name_variants > 1;"
   ]
  },
  {
   "cell_type": "code",
   "execution_count": 22,
   "id": "af8ab03e",
   "metadata": {},
   "outputs": [
    {
     "name": "stdout",
     "output_type": "stream",
     "text": [
      "Execution time: 0.09 seconds\n"
     ]
    },
    {
     "data": {
      "application/vnd.jupyter.widget-view+json": {
       "model_id": "ab2730762f0b417ba2d879a2194d1c5e",
       "version_major": 2,
       "version_minor": 0
      },
      "text/plain": [
       "SparkSchemaWidget(nodes=(Node(close_icon='angle-down', close_icon_style='danger', icon='project-diagram', icon…"
      ]
     },
     "metadata": {},
     "output_type": "display_data"
    },
    {
     "data": {
      "text/html": [
       "<a class=\"external\" href=\"http://7044d9af2496:4040\" target=\"_blank\" >Open Spark UI ⭐ Spark Notebook</a>"
      ],
      "text/plain": [
       "<IPython.core.display.HTML object>"
      ]
     },
     "metadata": {},
     "output_type": "display_data"
    },
    {
     "name": "stdout",
     "output_type": "stream",
     "text": [
      "+--------+\n",
      "|order_id|\n",
      "+--------+\n",
      "+--------+\n",
      "\n"
     ]
    }
   ],
   "source": [
    "%%sparksql --output text --limit 20\n",
    "\n",
    "-- Check for orphan returns in the orders dataset\n",
    "\n",
    "with returns_orders as (\n",
    "    select lower(trim(order_id)) as order_id from returns group by 1\n",
    "),\n",
    "all_orders as (\n",
    "    select lower(trim(order_id)) as order_id from orders group by 1\n",
    ")\n",
    "select ro.*\n",
    "from \n",
    "    returns_orders ro\n",
    "    left join all_orders ao \n",
    "    on ao.order_id=ro.order_id\n",
    "where ro.order_id is null\n",
    ";"
   ]
  },
  {
   "cell_type": "markdown",
   "id": "16dab678",
   "metadata": {},
   "source": [
    "# Exploration"
   ]
  },
  {
   "cell_type": "code",
   "execution_count": 23,
   "id": "5a537767",
   "metadata": {},
   "outputs": [
    {
     "name": "stdout",
     "output_type": "stream",
     "text": [
      "Execution time: 0.17 seconds\n"
     ]
    },
    {
     "data": {
      "application/vnd.jupyter.widget-view+json": {
       "model_id": "05a03de1fdec4223ba84ef03377c00c1",
       "version_major": 2,
       "version_minor": 0
      },
      "text/plain": [
       "SparkSchemaWidget(nodes=(Node(close_icon='angle-down', close_icon_style='danger', icon='project-diagram', icon…"
      ]
     },
     "metadata": {},
     "output_type": "display_data"
    },
    {
     "data": {
      "text/html": [
       "<a class=\"external\" href=\"http://7044d9af2496:4040\" target=\"_blank\" >Open Spark UI ⭐ Spark Notebook</a>"
      ],
      "text/plain": [
       "<IPython.core.display.HTML object>"
      ]
     },
     "metadata": {},
     "output_type": "display_data"
    },
    {
     "name": "stdout",
     "output_type": "stream",
     "text": [
      "+-----------+------------------+------------------+\n",
      "|segment    |total_sales       |total_profit      |\n",
      "+-----------+------------------+------------------+\n",
      "|Consumer   |1161401.3449999888|134119.20919999972|\n",
      "|Corporate  |706146.3668000001 |91979.13400000018 |\n",
      "|Home Office|429653.1485000003 |60298.678500000075|\n",
      "+-----------+------------------+------------------+\n",
      "\n"
     ]
    }
   ],
   "source": [
    "%%sparksql --output text --limit 20\n",
    "\n",
    "-- Analyze total sales and profit by customer segment\n",
    "\n",
    "select \n",
    "    segment\n",
    "  , sum(sales) as total_sales\n",
    "  , sum(profit) as total_profit\n",
    "from orders\n",
    "group by segment\n",
    "order by total_sales desc;"
   ]
  },
  {
   "cell_type": "code",
   "execution_count": 24,
   "id": "4e9045c0",
   "metadata": {},
   "outputs": [
    {
     "name": "stdout",
     "output_type": "stream",
     "text": [
      "Execution time: 0.10 seconds\n"
     ]
    },
    {
     "data": {
      "application/vnd.jupyter.widget-view+json": {
       "model_id": "9e3c26b8aaa7448fb2895ad5e3f22f08",
       "version_major": 2,
       "version_minor": 0
      },
      "text/plain": [
       "SparkSchemaWidget(nodes=(Node(close_icon='angle-down', close_icon_style='danger', icon='project-diagram', icon…"
      ]
     },
     "metadata": {},
     "output_type": "display_data"
    },
    {
     "data": {
      "text/html": [
       "<a class=\"external\" href=\"http://7044d9af2496:4040\" target=\"_blank\" >Open Spark UI ⭐ Spark Notebook</a>"
      ],
      "text/plain": [
       "<IPython.core.display.HTML object>"
      ]
     },
     "metadata": {},
     "output_type": "display_data"
    },
    {
     "name": "stdout",
     "output_type": "stream",
     "text": [
      "+---------------+-----------------+-----------------+\n",
      "|category       |total_sales      |total_profit     |\n",
      "+---------------+-----------------+-----------------+\n",
      "|Technology     |836154.0329999966|145454.9480999999|\n",
      "|Furniture      |741999.7952999998|18451.2728       |\n",
      "|Office Supplies|719047.0320000029|122490.8008000001|\n",
      "+---------------+-----------------+-----------------+\n",
      "\n"
     ]
    }
   ],
   "source": [
    "%%sparksql --output text --limit 20\n",
    "\n",
    "-- Analyze total sales and profit product category\n",
    "\n",
    "select \n",
    "    category\n",
    "  , sum(sales) as total_sales\n",
    "  , sum(profit) as total_profit\n",
    "from orders\n",
    "group by 1\n",
    "order by 2 desc;"
   ]
  },
  {
   "cell_type": "code",
   "execution_count": 25,
   "id": "f7ed22f3",
   "metadata": {},
   "outputs": [
    {
     "name": "stdout",
     "output_type": "stream",
     "text": [
      "Execution time: 0.66 seconds\n"
     ]
    },
    {
     "data": {
      "application/vnd.jupyter.widget-view+json": {
       "model_id": "e1b014609d514dd7a49487973533efc7",
       "version_major": 2,
       "version_minor": 0
      },
      "text/plain": [
       "SparkSchemaWidget(nodes=(Node(close_icon='angle-down', close_icon_style='danger', icon='project-diagram', icon…"
      ]
     },
     "metadata": {},
     "output_type": "display_data"
    },
    {
     "data": {
      "text/html": [
       "<a class=\"external\" href=\"http://7044d9af2496:4040\" target=\"_blank\" >Open Spark UI ⭐ Spark Notebook</a>"
      ],
      "text/plain": [
       "<IPython.core.display.HTML object>"
      ]
     },
     "metadata": {},
     "output_type": "display_data"
    },
    {
     "name": "stdout",
     "output_type": "stream",
     "text": [
      "+-----------+---------------+------------+-----------+\n",
      "|segment    |returned_orders|total_orders|return_rate|\n",
      "+-----------+---------------+------------+-----------+\n",
      "|Corporate  |93             |1514        |6.143      |\n",
      "|Consumer   |154            |2586        |5.955      |\n",
      "|Home Office|49             |909         |5.391      |\n",
      "+-----------+---------------+------------+-----------+\n",
      "\n"
     ]
    }
   ],
   "source": [
    "%%sparksql --output text --limit 20\n",
    "\n",
    "-- Calculate return rate by customer segment\n",
    "\n",
    "select \n",
    "    o.segment\n",
    "  , count(distinct r.order_id) as returned_orders\n",
    "  , count(distinct o.order_id) as total_orders\n",
    "  , round((count(distinct r.order_id) * 100.0 / count(distinct o.order_id)),3) as return_rate\n",
    "from orders o\n",
    "    left join returns r on o.order_id = r.order_id\n",
    "group by 1\n",
    "order by 4 desc;"
   ]
  },
  {
   "cell_type": "code",
   "execution_count": 26,
   "id": "4c4416da",
   "metadata": {},
   "outputs": [
    {
     "name": "stdout",
     "output_type": "stream",
     "text": [
      "Execution time: 0.52 seconds\n"
     ]
    },
    {
     "data": {
      "application/vnd.jupyter.widget-view+json": {
       "model_id": "229271b407334b029e7deec310224289",
       "version_major": 2,
       "version_minor": 0
      },
      "text/plain": [
       "SparkSchemaWidget(nodes=(Node(close_icon='angle-down', close_icon_style='danger', icon='project-diagram', icon…"
      ]
     },
     "metadata": {},
     "output_type": "display_data"
    },
    {
     "data": {
      "text/html": [
       "<a class=\"external\" href=\"http://7044d9af2496:4040\" target=\"_blank\" >Open Spark UI ⭐ Spark Notebook</a>"
      ],
      "text/plain": [
       "<IPython.core.display.HTML object>"
      ]
     },
     "metadata": {},
     "output_type": "display_data"
    },
    {
     "name": "stdout",
     "output_type": "stream",
     "text": [
      "+---------------+---------------+------------+-----------+\n",
      "|category       |returned_orders|total_orders|return_rate|\n",
      "+---------------+---------------+------------+-----------+\n",
      "|Technology     |123            |1544        |7.966      |\n",
      "|Furniture      |136            |1764        |7.710      |\n",
      "|Office Supplies|234            |3742        |6.253      |\n",
      "+---------------+---------------+------------+-----------+\n",
      "\n"
     ]
    }
   ],
   "source": [
    "%%sparksql --output text --limit 20\n",
    "\n",
    "-- Calculate return rate by product category\n",
    "\n",
    "select \n",
    "    o.category\n",
    "  , count(distinct r.order_id) as returned_orders\n",
    "  , count(distinct o.order_id) as total_orders\n",
    "  , round((count(distinct r.order_id) * 100.0 / count(distinct o.order_id)),3) as return_rate\n",
    "from orders o\n",
    "    left join returns r on o.order_id = r.order_id\n",
    "group by o.category\n",
    "order by return_rate desc;"
   ]
  },
  {
   "cell_type": "code",
   "execution_count": 27,
   "id": "3891da07",
   "metadata": {},
   "outputs": [
    {
     "name": "stdout",
     "output_type": "stream",
     "text": [
      "Execution time: 0.24 seconds\n",
      "Only showing top 20 rows\n"
     ]
    },
    {
     "data": {
      "application/vnd.jupyter.widget-view+json": {
       "model_id": "7c7b807651164be8ae4151160fa28f84",
       "version_major": 2,
       "version_minor": 0
      },
      "text/plain": [
       "SparkSchemaWidget(nodes=(Node(close_icon='angle-down', close_icon_style='danger', icon='project-diagram', icon…"
      ]
     },
     "metadata": {},
     "output_type": "display_data"
    },
    {
     "data": {
      "text/html": [
       "<a class=\"external\" href=\"http://7044d9af2496:4040\" target=\"_blank\" >Open Spark UI ⭐ Spark Notebook</a>"
      ],
      "text/plain": [
       "<IPython.core.display.HTML object>"
      ]
     },
     "metadata": {},
     "output_type": "display_data"
    },
    {
     "name": "stdout",
     "output_type": "stream",
     "text": [
      "+-----------+------------+\n",
      "|customer_id|total_orders|\n",
      "+-----------+------------+\n",
      "|WB-21850   |37          |\n",
      "|JL-15835   |34          |\n",
      "|PP-18955   |34          |\n",
      "|MA-17560   |34          |\n",
      "|JD-15895   |32          |\n",
      "|CK-12205   |32          |\n",
      "|SV-20365   |32          |\n",
      "|EH-13765   |32          |\n",
      "|AP-10915   |31          |\n",
      "|EP-13915   |31          |\n",
      "|ZC-21910   |31          |\n",
      "|LC-16870   |30          |\n",
      "|Dp-13240   |29          |\n",
      "|SH-19975   |29          |\n",
      "|GT-14710   |29          |\n",
      "|BM-11650   |29          |\n",
      "|KL-16645   |29          |\n",
      "|CL-12565   |28          |\n",
      "|XP-21865   |28          |\n",
      "|KM-16720   |28          |\n",
      "+-----------+------------+\n",
      "\n"
     ]
    }
   ],
   "source": [
    "%%sparksql --output text --limit 20\n",
    "\n",
    "-- Calculate the distribution of orders per customer_id\n",
    "\n",
    "select \n",
    "    customer_id,\n",
    "    count(order_id) as total_orders\n",
    "from orders\n",
    "group by customer_id\n",
    "order by total_orders desc;\n"
   ]
  },
  {
   "cell_type": "code",
   "execution_count": 28,
   "id": "eb577d93",
   "metadata": {},
   "outputs": [
    {
     "name": "stdout",
     "output_type": "stream",
     "text": [
      "Execution time: 0.34 seconds\n"
     ]
    },
    {
     "data": {
      "application/vnd.jupyter.widget-view+json": {
       "model_id": "4789a8ef7b84402d9b955115c8dce28b",
       "version_major": 2,
       "version_minor": 0
      },
      "text/plain": [
       "SparkSchemaWidget(nodes=(Node(close_icon='angle-down', close_icon_style='danger', icon='project-diagram', icon…"
      ]
     },
     "metadata": {},
     "output_type": "display_data"
    },
    {
     "data": {
      "text/html": [
       "<a class=\"external\" href=\"http://7044d9af2496:4040\" target=\"_blank\" >Open Spark UI ⭐ Spark Notebook</a>"
      ],
      "text/plain": [
       "<IPython.core.display.HTML object>"
      ]
     },
     "metadata": {},
     "output_type": "display_data"
    },
    {
     "name": "stdout",
     "output_type": "stream",
     "text": [
      "+-------+----------+-----------+\n",
      "|region |num_orders|total_sales|\n",
      "+-------+----------+-----------+\n",
      "|West   |1611      |725457.82  |\n",
      "|East   |1401      |678781.24  |\n",
      "|Central|1175      |501239.89  |\n",
      "|South  |822       |391721.91  |\n",
      "+-------+----------+-----------+\n",
      "\n"
     ]
    }
   ],
   "source": [
    "%%sparksql --output text --limit 20\n",
    "\n",
    "-- Analyze the number of orders and total sales by region\n",
    "\n",
    "select \n",
    "    region\n",
    "  , count(distinct order_id) as num_orders\n",
    "  , round(sum(sales),2) as total_sales\n",
    "from orders\n",
    "group by region\n",
    "order by num_orders desc;"
   ]
  },
  {
   "cell_type": "code",
   "execution_count": 29,
   "metadata": {},
   "outputs": [],
   "source": [
    "spark.stop()"
   ]
  }
 ],
 "metadata": {
  "kernelspec": {
   "display_name": "Python 3 (ipykernel)",
   "language": "python",
   "name": "python3"
  },
  "language_info": {
   "codemirror_mode": {
    "name": "ipython",
    "version": 3
   },
   "file_extension": ".py",
   "mimetype": "text/x-python",
   "name": "python",
   "nbconvert_exporter": "python",
   "pygments_lexer": "ipython3",
   "version": "3.11.6"
  }
 },
 "nbformat": 4,
 "nbformat_minor": 5
}
